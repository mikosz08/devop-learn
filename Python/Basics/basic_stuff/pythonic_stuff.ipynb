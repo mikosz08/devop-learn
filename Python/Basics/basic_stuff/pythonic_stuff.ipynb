{
 "cells": [
  {
   "attachments": {},
   "cell_type": "markdown",
   "metadata": {},
   "source": [
    "For loop with else"
   ]
  },
  {
   "cell_type": "code",
   "execution_count": 3,
   "metadata": {},
   "outputs": [
    {
     "name": "stdout",
     "output_type": "stream",
     "text": [
      "Loop did not break. 1 is prime.\n",
      "Loop did not break. 2 is prime.\n",
      "Loop did not break. 3 is prime.\n",
      "Loop did not break. 4 is prime.\n",
      "Loop did not break. 5 is prime.\n",
      "Loop did not break. 6 is prime.\n",
      "Loop did not break. 7 is prime.\n",
      "Loop did not break. 8 is prime.\n",
      "Loop did not break. 9 is prime.\n",
      "Loop broke. 10 is not prime.\n"
     ]
    }
   ],
   "source": [
    "for number in range(1, 11):\n",
    "    for factor in range(2, int(number**0.5)):\n",
    "        if number % factor == 0:\n",
    "            print(f'Loop broke. {number} is not prime.')\n",
    "            break\n",
    "    else:\n",
    "        print(f'Loop did not break. {number} is prime.')"
   ]
  },
  {
   "attachments": {},
   "cell_type": "markdown",
   "metadata": {},
   "source": [
    "args & kwargs"
   ]
  },
  {
   "cell_type": "code",
   "execution_count": 7,
   "metadata": {},
   "outputs": [
    {
     "name": "stdout",
     "output_type": "stream",
     "text": [
      "(1, 2, 3, 4, 5)\n",
      "{'action': 'Banana'}\n"
     ]
    }
   ],
   "source": [
    "def perform_something(*args, **kwargs):\n",
    "    print(args)\n",
    "    print(kwargs)\n",
    "    \n",
    "perform_something(1, 2, 3, 4, 5, action=\"Banana\")"
   ]
  },
  {
   "attachments": {},
   "cell_type": "markdown",
   "metadata": {},
   "source": [
    "locals()"
   ]
  },
  {
   "cell_type": "code",
   "execution_count": 8,
   "metadata": {},
   "outputs": [
    {
     "name": "stdout",
     "output_type": "stream",
     "text": [
      "{'x': 1, 'y': 2, 'something': 'Apple'}\n"
     ]
    }
   ],
   "source": [
    "def perform_something(x, y, something='Apple'):\n",
    "    print(locals())\n",
    "\n",
    "perform_something(1, 2)"
   ]
  },
  {
   "attachments": {},
   "cell_type": "markdown",
   "metadata": {},
   "source": [
    "Functions as variables"
   ]
  },
  {
   "cell_type": "code",
   "execution_count": 18,
   "metadata": {},
   "outputs": [
    {
     "name": "stdout",
     "output_type": "stream",
     "text": [
      "There are 5\n",
      "cats in the hut.\n"
     ]
    }
   ],
   "source": [
    "def add_five(x: str):\n",
    "    return f'{x} 5'\n",
    "\n",
    "\n",
    "def add_new_line(x: str):\n",
    "    return f'{x}\\n'\n",
    "\n",
    "\n",
    "def add_word(x):\n",
    "    word = \"cats in the hut.\"\n",
    "    return f'{x}{word}'\n",
    "\n",
    "\n",
    "funs = [add_five, add_new_line, add_word]\n",
    "y = 'There are'\n",
    "for fun in funs:\n",
    "    y = fun(y)\n",
    "print(y)\n"
   ]
  },
  {
   "attachments": {},
   "cell_type": "markdown",
   "metadata": {},
   "source": [
    "Lambda"
   ]
  },
  {
   "cell_type": "code",
   "execution_count": 19,
   "metadata": {},
   "outputs": [
    {
     "name": "stdout",
     "output_type": "stream",
     "text": [
      "121\n",
      "[1, 3, 4, 4, 5, 6, 7]\n",
      "[{'c': 1}, {'c': 2}, {'c': 3}]\n"
     ]
    }
   ],
   "source": [
    "λ = (lambda x: x**2)\n",
    "print(λ(11))\n",
    "\n",
    "list = [5, 3, 7, 4, 1, 6, 4]\n",
    "print(sorted(list))\n",
    "\n",
    "weird_list = [{'c': 3}, {'c': 2}, {'c': 1}]\n",
    "print(sorted(weird_list, key=lambda item: item['c']))\n"
   ]
  },
  {
   "attachments": {},
   "cell_type": "markdown",
   "metadata": {},
   "source": [
    "Static functions"
   ]
  },
  {
   "cell_type": "code",
   "execution_count": 24,
   "metadata": {},
   "outputs": [
    {
     "name": "stdout",
     "output_type": "stream",
     "text": [
      "Hello, I'm a static function\n",
      "Hello, I'm a static function\n"
     ]
    }
   ],
   "source": [
    "class Class():\n",
    "\n",
    "    def __init__(self) -> None:\n",
    "        print(Class.static_fun())\n",
    "\n",
    "    @classmethod\n",
    "    def static_fun(cls):\n",
    "        return \"Hello, I'm a static function\"\n",
    "\n",
    "\n",
    "print(Class.static_fun())\n",
    "c = Class()\n"
   ]
  },
  {
   "cell_type": "code",
   "execution_count": null,
   "metadata": {},
   "outputs": [],
   "source": []
  }
 ],
 "metadata": {
  "kernelspec": {
   "display_name": "Python 3",
   "language": "python",
   "name": "python3"
  },
  "language_info": {
   "codemirror_mode": {
    "name": "ipython",
    "version": 3
   },
   "file_extension": ".py",
   "mimetype": "text/x-python",
   "name": "python",
   "nbconvert_exporter": "python",
   "pygments_lexer": "ipython3",
   "version": "3.10.5 (tags/v3.10.5:f377153, Jun  6 2022, 16:14:13) [MSC v.1929 64 bit (AMD64)]"
  },
  "orig_nbformat": 4,
  "vscode": {
   "interpreter": {
    "hash": "1801e082369e0cddac7368490895bcb60554eaac71a59eada863bcf3be90803d"
   }
  }
 },
 "nbformat": 4,
 "nbformat_minor": 2
}
