{
 "cells": [
  {
   "attachments": {},
   "cell_type": "markdown",
   "metadata": {},
   "source": [
    "For loop with else"
   ]
  },
  {
   "cell_type": "code",
   "execution_count": 3,
   "metadata": {},
   "outputs": [
    {
     "name": "stdout",
     "output_type": "stream",
     "text": [
      "Loop did not break. 1 is prime.\n",
      "Loop did not break. 2 is prime.\n",
      "Loop did not break. 3 is prime.\n",
      "Loop did not break. 4 is prime.\n",
      "Loop did not break. 5 is prime.\n",
      "Loop did not break. 6 is prime.\n",
      "Loop did not break. 7 is prime.\n",
      "Loop did not break. 8 is prime.\n",
      "Loop did not break. 9 is prime.\n",
      "Loop broke. 10 is not prime.\n"
     ]
    }
   ],
   "source": [
    "for number in range(1, 11):\n",
    "    for factor in range(2, int(number**0.5)):\n",
    "        if number % factor == 0:\n",
    "            print(f'Loop broke. {number} is not prime.')\n",
    "            break\n",
    "    else:\n",
    "        print(f'Loop did not break. {number} is prime.')"
   ]
  },
  {
   "attachments": {},
   "cell_type": "markdown",
   "metadata": {},
   "source": [
    "args & kwargs"
   ]
  },
  {
   "cell_type": "code",
   "execution_count": 4,
   "metadata": {},
   "outputs": [
    {
     "name": "stdout",
     "output_type": "stream",
     "text": [
      "(1, 2, 3, 4, 5)\n",
      "{'action': 'Banana'}\n"
     ]
    }
   ],
   "source": [
    "def perform_something(*args, **kwargs):\n",
    "    print(args)\n",
    "    print(kwargs)\n",
    "    \n",
    "perform_something(1, 2, 3, 4, 5, action=\"Banana\")"
   ]
  },
  {
   "attachments": {},
   "cell_type": "markdown",
   "metadata": {},
   "source": [
    "locals()"
   ]
  },
  {
   "cell_type": "code",
   "execution_count": 5,
   "metadata": {},
   "outputs": [
    {
     "name": "stdout",
     "output_type": "stream",
     "text": [
      "{'x': 1, 'y': 2, 'something': 'Apple'}\n"
     ]
    }
   ],
   "source": [
    "def perform_something(x, y, something='Apple'):\n",
    "    print(locals())\n",
    "\n",
    "perform_something(1, 2)"
   ]
  },
  {
   "attachments": {},
   "cell_type": "markdown",
   "metadata": {},
   "source": [
    "Functions as variables"
   ]
  },
  {
   "cell_type": "code",
   "execution_count": 6,
   "metadata": {},
   "outputs": [
    {
     "name": "stdout",
     "output_type": "stream",
     "text": [
      "There are 5\n",
      "cats in the hut.\n"
     ]
    }
   ],
   "source": [
    "def add_five(x: str):\n",
    "    return f'{x} 5'\n",
    "\n",
    "\n",
    "def add_new_line(x: str):\n",
    "    return f'{x}\\n'\n",
    "\n",
    "\n",
    "def add_word(x):\n",
    "    word = \"cats in the hut.\"\n",
    "    return f'{x}{word}'\n",
    "\n",
    "\n",
    "funs = [add_five, add_new_line, add_word]\n",
    "y = 'There are'\n",
    "for fun in funs:\n",
    "    y = fun(y)\n",
    "print(y)\n"
   ]
  },
  {
   "attachments": {},
   "cell_type": "markdown",
   "metadata": {},
   "source": [
    "Lambda"
   ]
  },
  {
   "cell_type": "code",
   "execution_count": 7,
   "metadata": {},
   "outputs": [
    {
     "name": "stdout",
     "output_type": "stream",
     "text": [
      "121\n",
      "[1, 3, 4, 4, 5, 6, 7]\n",
      "[{'c': 1}, {'c': 2}, {'c': 3}]\n"
     ]
    }
   ],
   "source": [
    "λ = (lambda x: x**2)\n",
    "print(λ(11))\n",
    "\n",
    "list = [5, 3, 7, 4, 1, 6, 4]\n",
    "print(sorted(list))\n",
    "\n",
    "weird_list = [{'c': 3}, {'c': 2}, {'c': 1}]\n",
    "print(sorted(weird_list, key=lambda item: item['c']))\n"
   ]
  },
  {
   "attachments": {},
   "cell_type": "markdown",
   "metadata": {},
   "source": [
    "Static functions"
   ]
  },
  {
   "cell_type": "code",
   "execution_count": 8,
   "metadata": {},
   "outputs": [
    {
     "name": "stdout",
     "output_type": "stream",
     "text": [
      "Hello, I'm a static function\n",
      "Hello, I'm a static function\n"
     ]
    }
   ],
   "source": [
    "class Class():\n",
    "\n",
    "    def __init__(self) -> None:\n",
    "        print(Class.static_fun())\n",
    "\n",
    "    @classmethod\n",
    "    def static_fun(cls):\n",
    "        return \"Hello, I'm a static function\"\n",
    "\n",
    "\n",
    "print(Class.static_fun())\n",
    "c = Class()\n"
   ]
  },
  {
   "attachments": {},
   "cell_type": "markdown",
   "metadata": {},
   "source": [
    "Exceptions"
   ]
  },
  {
   "cell_type": "code",
   "execution_count": 9,
   "metadata": {},
   "outputs": [
    {
     "name": "stdout",
     "output_type": "stream",
     "text": [
      "Something went wrong!\n"
     ]
    }
   ],
   "source": [
    "def raise_exception():\n",
    "    return 1/0\n",
    "\n",
    "try:\n",
    "    raise_exception()\n",
    "except Exception as e:\n",
    "    print(\"Something went wrong!\")"
   ]
  },
  {
   "attachments": {},
   "cell_type": "markdown",
   "metadata": {},
   "source": [
    "Custom Exception Handling"
   ]
  },
  {
   "cell_type": "code",
   "execution_count": 32,
   "metadata": {},
   "outputs": [
    {
     "name": "stdout",
     "output_type": "stream",
     "text": [
      "{'args': (), 'function': <function risky_function at 0x000001FB23E04B80>}\n",
      "(\"risky_function() missing 1 required positional argument: 'div'\",)\n",
      "Something's wrong :c\n",
      "\n",
      "{'args': (0,), 'function': <function risky_function at 0x000001FB23E04B80>}\n",
      "('division by zero',)\n",
      "You can't divide by zero!\n",
      "\n",
      "{'args': (1, 2, 3), 'function': <function risky_function at 0x000001FB23E04B80>}\n",
      "('risky_function() takes 1 positional argument but 3 were given',)\n",
      "Something's wrong :c\n",
      "\n"
     ]
    }
   ],
   "source": [
    "def handle_exceptions(function):\n",
    "\n",
    "    def wrap(*args):\n",
    "        print(locals())\n",
    "        try:\n",
    "            function(*args)\n",
    "        except ZeroDivisionError as zde:\n",
    "            print(zde.args)\n",
    "            print(f\"You can't divide by zero!\\n\")\n",
    "        except Exception as e:\n",
    "            print(e.args)\n",
    "            print(f\"Something's wrong :c\\n\")\n",
    "\n",
    "    return wrap\n",
    "\n",
    "\n",
    "@handle_exceptions\n",
    "def risky_function(div):\n",
    "    return 1/div\n",
    "\n",
    "\n",
    "risky_function()\n",
    "risky_function(0)\n",
    "risky_function(1, 2, 3)\n"
   ]
  }
 ],
 "metadata": {
  "kernelspec": {
   "display_name": "Python 3",
   "language": "python",
   "name": "python3"
  },
  "language_info": {
   "codemirror_mode": {
    "name": "ipython",
    "version": 3
   },
   "file_extension": ".py",
   "mimetype": "text/x-python",
   "name": "python",
   "nbconvert_exporter": "python",
   "pygments_lexer": "ipython3",
   "version": "3.10.5"
  },
  "orig_nbformat": 4,
  "vscode": {
   "interpreter": {
    "hash": "1801e082369e0cddac7368490895bcb60554eaac71a59eada863bcf3be90803d"
   }
  }
 },
 "nbformat": 4,
 "nbformat_minor": 2
}
