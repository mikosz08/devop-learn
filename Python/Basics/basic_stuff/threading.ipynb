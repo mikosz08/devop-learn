{
 "cells": [
  {
   "attachments": {},
   "cell_type": "markdown",
   "metadata": {},
   "source": [
    "Thread"
   ]
  },
  {
   "cell_type": "code",
   "execution_count": 17,
   "metadata": {},
   "outputs": [],
   "source": [
    "import threading\n",
    "import time"
   ]
  },
  {
   "cell_type": "code",
   "execution_count": 28,
   "metadata": {},
   "outputs": [
    {
     "name": "stdout",
     "output_type": "stream",
     "text": [
      "<function with_threads at 0x000001C48F121510>\n",
      "(1, '1')\t(2, '4')\t(3, '9')\t(4, '16')\t(5, '25')\t(6, '36')\tTime: 1.01 second/s.\n",
      "<function without_threads at 0x000001C48F120EE0>\n",
      "(1, '1')\t(2, '4')\t(3, '9')\t(4, '16')\t(5, '25')\t(6, '36')\tTime: 6.05 second/s.\n"
     ]
    }
   ],
   "source": [
    "def long_fun(x: int, results: dict):\n",
    "    time.sleep(1)\n",
    "    results[x] = str(f'{x**2}')\n",
    "\n",
    "def track_time(fun):\n",
    "    def wrap(*args):\n",
    "        print(fun)\n",
    "        start = time.time()\n",
    "        fun(*args)\n",
    "        t = time.time() - start\n",
    "        print(f'Time: {round(t, 2)} second/s.')\n",
    "    return wrap\n",
    "\n",
    "runs = 7\n",
    "\n",
    "@track_time\n",
    "def without_threads():\n",
    "    results = {}\n",
    "    for x in range(1,runs):\n",
    "        long_fun(x, results)\n",
    "\n",
    "    for res in sorted(results.items()):\n",
    "        print(res, end='\\t')\n",
    "\n",
    "@track_time    \n",
    "def with_threads():\n",
    "    results = {}\n",
    "    threads = [threading.Thread(target=long_fun, args=(x, results)) for x in range(1, runs)]\n",
    "    [t.start() for t in threads]\n",
    "    [t.join() for t in threads]\n",
    "\n",
    "    for res in sorted(results.items()):\n",
    "        print(res, end='\\t')\n",
    "\n",
    "\n",
    "with_threads()\n",
    "without_threads()\n"
   ]
  }
 ],
 "metadata": {
  "kernelspec": {
   "display_name": "Python 3",
   "language": "python",
   "name": "python3"
  },
  "language_info": {
   "codemirror_mode": {
    "name": "ipython",
    "version": 3
   },
   "file_extension": ".py",
   "mimetype": "text/x-python",
   "name": "python",
   "nbconvert_exporter": "python",
   "pygments_lexer": "ipython3",
   "version": "3.10.5"
  },
  "orig_nbformat": 4,
  "vscode": {
   "interpreter": {
    "hash": "1801e082369e0cddac7368490895bcb60554eaac71a59eada863bcf3be90803d"
   }
  }
 },
 "nbformat": 4,
 "nbformat_minor": 2
}
